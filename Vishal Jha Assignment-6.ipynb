{
 "cells": [
  {
   "cell_type": "code",
   "execution_count": 13,
   "id": "ab184ba0-72c3-4611-af7a-75ef6f0a3687",
   "metadata": {},
   "outputs": [
    {
     "name": "stdout",
     "output_type": "stream",
     "text": [
      "Vishal\n",
      "25\n"
     ]
    }
   ],
   "source": [
    "#1. Explain Class and Object with respect to Object-Oriented Programming. Give a suitable example\n",
    "\n",
    "#Ans\n",
    "\n",
    "#object-oriented programming (OOP) a class is a blueprint or template for creating objects which are instances of the class. The class defines a set of attributes (or data) and methods (or functions) that are common to all objects of that class. An object, on the other hand is an instance of a class, created using the class blueprint or template. An object has its own set of attribute values which may be different from those of other objects of the same class. It also has its own set of methods that can be used to manipulate its attribute values or perform other operations.\n",
    "\n",
    "class Person:\n",
    "  def __init__(self, name, age):\n",
    "    self.name = name\n",
    "    self.age = age\n",
    "p1 = Person(\"Vishal\", 25)\n",
    "print(p1.name)\n",
    "print(p1.age)"
   ]
  },
  {
   "cell_type": "code",
   "execution_count": 14,
   "id": "da89fd1f-b16f-4860-bff2-51b6bded645a",
   "metadata": {},
   "outputs": [],
   "source": [
    "#2. Name the four pillars of OOPs.\n",
    "\n",
    "#Ans\n",
    "\n",
    "#Encapsulation,Inheritance,Polymorphism,Abstraction."
   ]
  },
  {
   "cell_type": "code",
   "execution_count": 16,
   "id": "35c4cc87-7547-4546-ace5-a592759042ff",
   "metadata": {},
   "outputs": [
    {
     "name": "stdout",
     "output_type": "stream",
     "text": [
      "2023 Toyota Corolla\n"
     ]
    }
   ],
   "source": [
    "#3. Explain why the __init__() function is used. Give a suitable example\n",
    "\n",
    "#Ans\n",
    "\n",
    "#The __init__() function is a special method in Python classes that is used to initialize the object's attributes when it is created. It is called automatically when an object is instantiated from a class and provides a way to set the initial values of the object's properties.\n",
    "\n",
    "class Car:\n",
    "    def __init__(self, make, model, year):\n",
    "        self.make = make\n",
    "        self.model = model\n",
    "        self.year = year\n",
    "        self.odometer_reading = 0\n",
    "    def get_descriptive_name(self):\n",
    "        long_name = f\"{self.year} {self.make} {self.model}\"\n",
    "        return long_name.title()\n",
    "    def read_odometer(self):\n",
    "        print(f\"This car has {self.odometer_reading} miles on it.\")\n",
    "my_car = Car(\"Toyota\", \"Corolla\", 2023)\n",
    "print(my_car.get_descriptive_name())"
   ]
  },
  {
   "cell_type": "code",
   "execution_count": 17,
   "id": "512061e9-7a09-42bd-a0fa-eb1ce16ce58e",
   "metadata": {},
   "outputs": [
    {
     "name": "stdout",
     "output_type": "stream",
     "text": [
      "My name is Vishal and I am 25 years old.\n"
     ]
    }
   ],
   "source": [
    "#4. Why self is used in OOPs?\n",
    "\n",
    "#Ans\n",
    "\n",
    "#In object-oriented programming (OOP), self is a special keyword that refers to the instance of a class that is currently being manipulated. It is used to access and modify the instance variables and methods of the class. The self keyword is necessary in Python because it allows you to differentiate between the instance variables and methods of a specific object and the class variables and methods that are shared by all instances of the class. When you call a method on an instance of a class python automatically passes the instance itself as the first argument to the method  which is referred to as self.\n",
    "\n",
    "class Person:\n",
    "    def __init__(self, name, age):\n",
    "        self.name = name\n",
    "        self.age = age\n",
    "    def introduce(self):\n",
    "        print(f\"My name is {self.name} and I am {self.age} years old.\")\n",
    "person1 = Person(\"Vishal\", 25)\n",
    "person1.introduce()"
   ]
  },
  {
   "cell_type": "code",
   "execution_count": null,
   "id": "4e748d77-9ba0-4c9e-9387-9fa1a96ccf57",
   "metadata": {},
   "outputs": [],
   "source": [
    "#5. What is inheritance? Give an example for each type of inheritance.\n",
    "\n",
    "#Ans\n",
    "\n",
    "#Inheritance is a fundamental concept in object-oriented programming that allows a new class to be based on an existing class. The new class called the subclass or derived class inherits all the properties and behaviors of the existing class called the superclass or base class. This means that the subclass can reuse the code and functionality of the superclass as well as add its own new properties and behaviors\n",
    "\n",
    "class Animal:\n",
    "    def __init__(self, name, species):\n",
    "        self.name = name\n",
    "        self.species = species\n",
    "    def eat(self):\n",
    "        print(f\"{self.name} is eating.\")\n",
    "class Dog(Animal):\n",
    "    def __init__(self, name, breed):\n",
    "        super().__init__(name, \"Canine\")\n",
    "        self.breed = breed\n",
    "    def bark(self):\n",
    "        print(f\"{self.name} is barking.\")\n",
    "\n",
    "my_dog = Dog(\"Fido\", \"Labrador\")\n",
    "my_dog.eat()\n",
    "my_dog.bark()"
   ]
  }
 ],
 "metadata": {
  "kernelspec": {
   "display_name": "Python 3 (ipykernel)",
   "language": "python",
   "name": "python3"
  },
  "language_info": {
   "codemirror_mode": {
    "name": "ipython",
    "version": 3
   },
   "file_extension": ".py",
   "mimetype": "text/x-python",
   "name": "python",
   "nbconvert_exporter": "python",
   "pygments_lexer": "ipython3",
   "version": "3.10.8"
  }
 },
 "nbformat": 4,
 "nbformat_minor": 5
}
